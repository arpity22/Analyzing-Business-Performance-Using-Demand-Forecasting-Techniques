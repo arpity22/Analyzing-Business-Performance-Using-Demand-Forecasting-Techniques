{
 "cells": [
  {
   "attachments": {},
   "cell_type": "markdown",
   "metadata": {},
   "source": [
    "## Assignment 4"
   ]
  },
  {
   "attachments": {},
   "cell_type": "markdown",
   "metadata": {},
   "source": [
    "Import Important Python Libraries"
   ]
  },
  {
   "cell_type": "code",
   "execution_count": 2,
   "metadata": {},
   "outputs": [],
   "source": [
    "import pandas as pd\n",
    "import numpy as np\n",
    "import matplotlib.pyplot as plt\n",
    "import seaborn as sns\n",
    "%matplotlib inline"
   ]
  },
  {
   "attachments": {},
   "cell_type": "markdown",
   "metadata": {},
   "source": [
    "Import dataset as pdata"
   ]
  },
  {
   "cell_type": "code",
   "execution_count": 3,
   "metadata": {},
   "outputs": [],
   "source": [
    "pdata=pd.read_csv(\"time_series_ass3.csv\")"
   ]
  },
  {
   "attachments": {},
   "cell_type": "markdown",
   "metadata": {},
   "source": [
    "Understanding the data"
   ]
  },
  {
   "cell_type": "code",
   "execution_count": 4,
   "metadata": {},
   "outputs": [
    {
     "name": "stdout",
     "output_type": "stream",
     "text": [
      "<class 'pandas.core.frame.DataFrame'>\n",
      "RangeIndex: 8640 entries, 0 to 8639\n",
      "Data columns (total 6 columns):\n",
      " #   Column              Non-Null Count  Dtype  \n",
      "---  ------              --------------  -----  \n",
      " 0   Unnamed: 0          8640 non-null   int64  \n",
      " 1   From                8640 non-null   object \n",
      " 2   To (Interval: 15M)  8640 non-null   object \n",
      " 3   PM10 (µg/m3)        6959 non-null   float64\n",
      " 4   PM2.5 (µg/m3)       8414 non-null   float64\n",
      " 5   NO (µg/m3)          7271 non-null   float64\n",
      "dtypes: float64(3), int64(1), object(2)\n",
      "memory usage: 405.1+ KB\n"
     ]
    }
   ],
   "source": [
    "pdata.info()"
   ]
  },
  {
   "cell_type": "code",
   "execution_count": 5,
   "metadata": {},
   "outputs": [
    {
     "data": {
      "text/html": [
       "<div>\n",
       "<style scoped>\n",
       "    .dataframe tbody tr th:only-of-type {\n",
       "        vertical-align: middle;\n",
       "    }\n",
       "\n",
       "    .dataframe tbody tr th {\n",
       "        vertical-align: top;\n",
       "    }\n",
       "\n",
       "    .dataframe thead th {\n",
       "        text-align: right;\n",
       "    }\n",
       "</style>\n",
       "<table border=\"1\" class=\"dataframe\">\n",
       "  <thead>\n",
       "    <tr style=\"text-align: right;\">\n",
       "      <th></th>\n",
       "      <th>Unnamed: 0</th>\n",
       "      <th>From</th>\n",
       "      <th>To (Interval: 15M)</th>\n",
       "      <th>PM10 (µg/m3)</th>\n",
       "      <th>PM2.5 (µg/m3)</th>\n",
       "      <th>NO (µg/m3)</th>\n",
       "    </tr>\n",
       "  </thead>\n",
       "  <tbody>\n",
       "    <tr>\n",
       "      <th>0</th>\n",
       "      <td>0</td>\n",
       "      <td>2023-02-01 00:00:00</td>\n",
       "      <td>2023-02-01 00:15:00</td>\n",
       "      <td>95.0</td>\n",
       "      <td>35.0</td>\n",
       "      <td>NaN</td>\n",
       "    </tr>\n",
       "    <tr>\n",
       "      <th>1</th>\n",
       "      <td>1</td>\n",
       "      <td>2023-02-01 00:15:00</td>\n",
       "      <td>2023-02-01 00:30:00</td>\n",
       "      <td>95.0</td>\n",
       "      <td>35.0</td>\n",
       "      <td>NaN</td>\n",
       "    </tr>\n",
       "    <tr>\n",
       "      <th>2</th>\n",
       "      <td>2</td>\n",
       "      <td>2023-02-01 00:30:00</td>\n",
       "      <td>2023-02-01 00:45:00</td>\n",
       "      <td>95.0</td>\n",
       "      <td>35.0</td>\n",
       "      <td>NaN</td>\n",
       "    </tr>\n",
       "    <tr>\n",
       "      <th>3</th>\n",
       "      <td>3</td>\n",
       "      <td>2023-02-01 00:45:00</td>\n",
       "      <td>2023-02-01 01:00:00</td>\n",
       "      <td>122.0</td>\n",
       "      <td>34.0</td>\n",
       "      <td>NaN</td>\n",
       "    </tr>\n",
       "    <tr>\n",
       "      <th>4</th>\n",
       "      <td>4</td>\n",
       "      <td>2023-02-01 01:00:00</td>\n",
       "      <td>2023-02-01 01:15:00</td>\n",
       "      <td>122.0</td>\n",
       "      <td>34.0</td>\n",
       "      <td>NaN</td>\n",
       "    </tr>\n",
       "  </tbody>\n",
       "</table>\n",
       "</div>"
      ],
      "text/plain": [
       "   Unnamed: 0                 From   To (Interval: 15M)  PM10 (µg/m3)  \\\n",
       "0           0  2023-02-01 00:00:00  2023-02-01 00:15:00          95.0   \n",
       "1           1  2023-02-01 00:15:00  2023-02-01 00:30:00          95.0   \n",
       "2           2  2023-02-01 00:30:00  2023-02-01 00:45:00          95.0   \n",
       "3           3  2023-02-01 00:45:00  2023-02-01 01:00:00         122.0   \n",
       "4           4  2023-02-01 01:00:00  2023-02-01 01:15:00         122.0   \n",
       "\n",
       "   PM2.5 (µg/m3)  NO (µg/m3)  \n",
       "0           35.0         NaN  \n",
       "1           35.0         NaN  \n",
       "2           35.0         NaN  \n",
       "3           34.0         NaN  \n",
       "4           34.0         NaN  "
      ]
     },
     "execution_count": 5,
     "metadata": {},
     "output_type": "execute_result"
    }
   ],
   "source": [
    "pdata.head()"
   ]
  },
  {
   "cell_type": "code",
   "execution_count": 6,
   "metadata": {},
   "outputs": [
    {
     "data": {
      "text/html": [
       "<div>\n",
       "<style scoped>\n",
       "    .dataframe tbody tr th:only-of-type {\n",
       "        vertical-align: middle;\n",
       "    }\n",
       "\n",
       "    .dataframe tbody tr th {\n",
       "        vertical-align: top;\n",
       "    }\n",
       "\n",
       "    .dataframe thead th {\n",
       "        text-align: right;\n",
       "    }\n",
       "</style>\n",
       "<table border=\"1\" class=\"dataframe\">\n",
       "  <thead>\n",
       "    <tr style=\"text-align: right;\">\n",
       "      <th></th>\n",
       "      <th>Unnamed: 0</th>\n",
       "      <th>From</th>\n",
       "      <th>To (Interval: 15M)</th>\n",
       "      <th>PM10 (µg/m3)</th>\n",
       "      <th>PM2.5 (µg/m3)</th>\n",
       "      <th>NO (µg/m3)</th>\n",
       "    </tr>\n",
       "  </thead>\n",
       "  <tbody>\n",
       "    <tr>\n",
       "      <th>8635</th>\n",
       "      <td>8635</td>\n",
       "      <td>2023-05-01 22:45:00</td>\n",
       "      <td>2023-05-01 23:00:00</td>\n",
       "      <td>19.0</td>\n",
       "      <td>11.0</td>\n",
       "      <td>17.9</td>\n",
       "    </tr>\n",
       "    <tr>\n",
       "      <th>8636</th>\n",
       "      <td>8636</td>\n",
       "      <td>2023-05-01 23:00:00</td>\n",
       "      <td>2023-05-01 23:15:00</td>\n",
       "      <td>19.0</td>\n",
       "      <td>11.0</td>\n",
       "      <td>17.9</td>\n",
       "    </tr>\n",
       "    <tr>\n",
       "      <th>8637</th>\n",
       "      <td>8637</td>\n",
       "      <td>2023-05-01 23:15:00</td>\n",
       "      <td>2023-05-01 23:30:00</td>\n",
       "      <td>19.0</td>\n",
       "      <td>11.0</td>\n",
       "      <td>19.6</td>\n",
       "    </tr>\n",
       "    <tr>\n",
       "      <th>8638</th>\n",
       "      <td>8638</td>\n",
       "      <td>2023-05-01 23:30:00</td>\n",
       "      <td>2023-05-01 23:45:00</td>\n",
       "      <td>19.0</td>\n",
       "      <td>11.0</td>\n",
       "      <td>20.8</td>\n",
       "    </tr>\n",
       "    <tr>\n",
       "      <th>8639</th>\n",
       "      <td>8639</td>\n",
       "      <td>2023-05-01 23:45:00</td>\n",
       "      <td>2023-05-02 00:00:00</td>\n",
       "      <td>32.0</td>\n",
       "      <td>6.0</td>\n",
       "      <td>21.8</td>\n",
       "    </tr>\n",
       "  </tbody>\n",
       "</table>\n",
       "</div>"
      ],
      "text/plain": [
       "      Unnamed: 0                 From   To (Interval: 15M)  PM10 (µg/m3)  \\\n",
       "8635        8635  2023-05-01 22:45:00  2023-05-01 23:00:00          19.0   \n",
       "8636        8636  2023-05-01 23:00:00  2023-05-01 23:15:00          19.0   \n",
       "8637        8637  2023-05-01 23:15:00  2023-05-01 23:30:00          19.0   \n",
       "8638        8638  2023-05-01 23:30:00  2023-05-01 23:45:00          19.0   \n",
       "8639        8639  2023-05-01 23:45:00  2023-05-02 00:00:00          32.0   \n",
       "\n",
       "      PM2.5 (µg/m3)  NO (µg/m3)  \n",
       "8635           11.0        17.9  \n",
       "8636           11.0        17.9  \n",
       "8637           11.0        19.6  \n",
       "8638           11.0        20.8  \n",
       "8639            6.0        21.8  "
      ]
     },
     "execution_count": 6,
     "metadata": {},
     "output_type": "execute_result"
    }
   ],
   "source": [
    "pdata.tail()"
   ]
  },
  {
   "cell_type": "code",
   "execution_count": 7,
   "metadata": {},
   "outputs": [
    {
     "data": {
      "text/plain": [
       "<Axes: >"
      ]
     },
     "execution_count": 7,
     "metadata": {},
     "output_type": "execute_result"
    },
    {
     "data": {
      "image/png": "[encoded data removed]",
      "text/plain": [
       "<Figure size 640x480 with 2 Axes>"
      ]
     },
     "metadata": {},
     "output_type": "display_data"
    }
   ],
   "source": [
    "sns.heatmap(pdata.isnull())"
   ]
  },
  {
   "attachments": {},
   "cell_type": "markdown",
   "metadata": {},
   "source": [
    "**Preparing the Data**"
   ]
  },
  {
   "attachments": {},
   "cell_type": "markdown",
   "metadata": {},
   "source": [
    "Handling Outliers"
   ]
  },
  {
   "cell_type": "code",
   "execution_count": 8,
   "metadata": {},
   "outputs": [],
   "source": [
    "def outl(data):\n",
    "    q1 = np.percentile(data, 25)\n",
    "    q3 = np.percentile(data, 75)\n",
    "    iqr = q3 - q1\n",
    "    lower_bound = q1 - 1.5 * iqr\n",
    "    upper_bound = q3 + 1.5 * iqr\n",
    "    data = np.where((data < lower_bound) | (data > upper_bound), np.nan, data)\n",
    "    return data"
   ]
  },
  {
   "cell_type": "code",
   "execution_count": 9,
   "metadata": {},
   "outputs": [],
   "source": [
    "pdata['NO (µg/m3)']=outl(pdata['NO (µg/m3)'])\n",
    "pdata['PM10 (µg/m3)']=outl(pdata['PM10 (µg/m3)'])\n",
    "pdata['PM2.5 (µg/m3)']=outl(pdata['PM2.5 (µg/m3)'])"
   ]
  },
  {
   "cell_type": "code",
   "execution_count": 10,
   "metadata": {},
   "outputs": [],
   "source": [
    "pdata['NO (µg/m3)']=pdata['NO (µg/m3)'].interpolate(method='linear')\n",
    "pdata['PM10 (µg/m3)']=pdata['PM10 (µg/m3)'].interpolate(method='linear')\n",
    "pdata['PM2.5 (µg/m3)']=pdata['PM2.5 (µg/m3)'].interpolate(method='linear')"
   ]
  },
  {
   "attachments": {},
   "cell_type": "markdown",
   "metadata": {},
   "source": [
    "Predicting the missing values using ARIMA"
   ]
  },
  {
   "cell_type": "code",
   "execution_count": 11,
   "metadata": {},
   "outputs": [],
   "source": [
    "from statsmodels.tsa.arima.model import ARIMA"
   ]
  },
  {
   "cell_type": "code",
   "execution_count": 12,
   "metadata": {},
   "outputs": [],
   "source": [
    "def predict_missing_values(data, forecast_length):\n",
    "    ob = data.dropna()\n",
    "    mi = data[data.isna()]\n",
    "    model = ARIMA(ob, order=(1, 1, 1))\n",
    "    model_fit = model.fit()\n",
    "    \n",
    "    \n",
    "    predictions = model_fit.predict(start=len(ob), end=len(ob) + forecast_length - 1)\n",
    "    data_missing_filled = data.copy()\n",
    "    data_missing_filled[data_missing_filled.isna()] = predictions\n",
    "    \n",
    "    return data_missing_filled"
   ]
  },
  {
   "cell_type": "code",
   "execution_count": 13,
   "metadata": {},
   "outputs": [
    {
     "name": "stderr",
     "output_type": "stream",
     "text": [
      "c:\\Users\\Hp\\anaconda3\\envs\\arpit\\Lib\\site-packages\\statsmodels\\tsa\\base\\tsa_model.py:471: ValueWarning: An unsupported index was provided and will be ignored when e.g. forecasting.\n",
      "  self._init_dates(dates, freq)\n",
      "c:\\Users\\Hp\\anaconda3\\envs\\arpit\\Lib\\site-packages\\statsmodels\\tsa\\base\\tsa_model.py:471: ValueWarning: An unsupported index was provided and will be ignored when e.g. forecasting.\n",
      "  self._init_dates(dates, freq)\n",
      "c:\\Users\\Hp\\anaconda3\\envs\\arpit\\Lib\\site-packages\\statsmodels\\tsa\\base\\tsa_model.py:471: ValueWarning: An unsupported index was provided and will be ignored when e.g. forecasting.\n",
      "  self._init_dates(dates, freq)\n",
      "c:\\Users\\Hp\\anaconda3\\envs\\arpit\\Lib\\site-packages\\statsmodels\\tsa\\base\\tsa_model.py:834: ValueWarning: No supported index is available. Prediction results will be given with an integer index beginning at `start`.\n",
      "  return get_prediction_index(\n"
     ]
    }
   ],
   "source": [
    "f = 10\n",
    "pm10 = predict_missing_values(pdata['PM10 (µg/m3)'], f)\n",
    "pm25= predict_missing_values(pdata['PM2.5 (µg/m3)'], f)\n",
    "no = predict_missing_values(pdata['NO (µg/m3)'], f)"
   ]
  },
  {
   "cell_type": "code",
   "execution_count": 14,
   "metadata": {},
   "outputs": [
    {
     "name": "stdout",
     "output_type": "stream",
     "text": [
      "(0, 1, 0)\n"
     ]
    }
   ],
   "source": [
    "from pmdarima import auto_arima\n",
    "model = auto_arima(pdata['PM10 (µg/m3)'], seasonal=False, suppress_warnings=True)\n",
    "order = model.order\n",
    "print(order)"
   ]
  },
  {
   "cell_type": "code",
   "execution_count": 15,
   "metadata": {},
   "outputs": [],
   "source": [
    "def next_10(data):\n",
    "    ar=ARIMA(data,order=(0,1,0))\n",
    "    ar_fit=ar.fit()\n",
    "    forecast=ar_fit.forecast(steps=960)\n",
    "    return forecast\n",
    "pm10=next_10(pdata['PM10 (µg/m3)'])\n",
    "pm25=next_10(pdata['PM2.5 (µg/m3)'])\n",
    "no=next_10(pdata['NO (µg/m3)'])\n"
   ]
  },
  {
   "cell_type": "code",
   "execution_count": 16,
   "metadata": {},
   "outputs": [
    {
     "data": {
      "text/plain": [
       "<Figure size 640x480 with 0 Axes>"
      ]
     },
     "metadata": {},
     "output_type": "display_data"
    }
   ],
   "source": [
    "from datetime import datetime\n",
    "last_date = datetime(2023,5,2,0,0,0)\n",
    "dates = pd.date_range(start=last_date + pd.Timedelta(minutes=15), periods=960, freq='15Min')\n",
    "fig = plt.figure()"
   ]
  },
  {
   "cell_type": "code",
   "execution_count": 18,
   "metadata": {},
   "outputs": [
    {
     "data": {
      "image/png": "[encoded data removed]",
      "text/plain": [
       "<Figure size 640x480 with 1 Axes>"
      ]
     },
     "metadata": {},
     "output_type": "display_data"
    }
   ],
   "source": [
    "axes = fig.add_axes([0,0,1,1])\n",
    "plt.plot(dates,no)\n",
    "plt.plot(dates,pm10)\n",
    "plt.plot(dates,pm25)\n",
    "plt.xlabel('Date')\n",
    "plt.ylabel('Forecasted Values')\n",
    "plt.title('Forecast for the Next 10 Days')\n",
    "plt.xticks(rotation=45)\n",
    "plt.grid(True)\n",
    "plt.show()"
   ]
  },
  {
   "attachments": {},
   "cell_type": "markdown",
   "metadata": {},
   "source": [
    "RNN"
   ]
  },
  {
   "cell_type": "code",
   "execution_count": null,
   "metadata": {},
   "outputs": [],
   "source": [
    "from sklearn.preprocessing import MinMaxScaler\n",
    "from keras.models import Sequential\n",
    "from keras.layers import LSTM, Dense"
   ]
  },
  {
   "cell_type": "code",
   "execution_count": null,
   "metadata": {},
   "outputs": [],
   "source": [
    "scaler = MinMaxScaler(feature_range=(0, 1))\n",
    "scaled_no = scaler.fit_transform(pdata['NO (µg/m3)'].values.reshape(-1, 1))\n",
    "scaled_pm10 = scaler.fit_transform(pdata['PM10 (µg/m3)'].values.reshape(-1, 1))\n",
    "scaled_pm25 = scaler.fit_transform(pdata['PM2.5 (µg/m3)'].values.reshape(-1, 1))"
   ]
  }
 ],
 "metadata": {
  "kernelspec": {
   "display_name": "arpit",
   "language": "python",
   "name": "python3"
  },
  "language_info": {
   "codemirror_mode": {
    "name": "ipython",
    "version": 3
   },
   "file_extension": ".py",
   "mimetype": "text/x-python",
   "name": "python",
   "nbconvert_exporter": "python",
   "pygments_lexer": "ipython3",
   "version": "3.11.3"
  },
  "orig_nbformat": 4
 },
 "nbformat": 4,
 "nbformat_minor": 2
}
